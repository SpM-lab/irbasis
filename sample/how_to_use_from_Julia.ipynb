{
 "cells": [
  {
   "cell_type": "code",
   "execution_count": 1,
   "metadata": {},
   "outputs": [
    {
     "data": {
      "text/plain": [
       "PyObject <module 'irbasis' from '/home/shinaoka/.local/lib/python3.8/site-packages/irbasis-2.2.3-py3.8.egg/irbasis/__init__.py'>"
      ]
     },
     "execution_count": 1,
     "metadata": {},
     "output_type": "execute_result"
    }
   ],
   "source": [
    "using PyCall\n",
    "\n",
    "const irbasis = pyimport(\"irbasis\")"
   ]
  },
  {
   "cell_type": "code",
   "execution_count": 2,
   "metadata": {},
   "outputs": [
    {
     "data": {
      "text/plain": [
       "PyObject <irbasis.irbasis.basis object at 0x14d6b80b0220>"
      ]
     },
     "execution_count": 2,
     "metadata": {},
     "output_type": "execute_result"
    }
   ],
   "source": [
    "# Load basis data for fermions and Lambda = 1000.0\n",
    "basis = irbasis.load(\"F\", 1000.0)"
   ]
  },
  {
   "cell_type": "code",
   "execution_count": 3,
   "metadata": {},
   "outputs": [
    {
     "data": {
      "text/plain": [
       "0.27401896348952326"
      ]
     },
     "execution_count": 3,
     "metadata": {},
     "output_type": "execute_result"
    }
   ],
   "source": [
    "# l=0, x = 0.1\n",
    "basis.ulx(0, 0.1)"
   ]
  },
  {
   "cell_type": "code",
   "execution_count": 4,
   "metadata": {},
   "outputs": [
    {
     "data": {
      "text/plain": [
       "(72, 10)"
      ]
     },
     "execution_count": 4,
     "metadata": {},
     "output_type": "execute_result"
    }
   ],
   "source": [
    "# Compute u_l(x) for all l's at 10 x points.\n",
    "# This can be done by using numpy broadcasting.\n",
    "function compute_ulx_all_l(basis, xs)\n",
    "    dim = convert(Int64, basis.dim())\n",
    "    nx = length(xs)\n",
    "    all_l = collect(0:dim-1) # make sure l starts with 0.\n",
    "    basis.ulx(reshape(all_l, dim, 1), reshape(xs, 1, nx))\n",
    "end\n",
    "nx = 10\n",
    "xs = LinRange(-1, 1, nx)\n",
    "ulx_mat = compute_ulx_all_l(basis, xs)\n",
    "size(ulx_mat)"
   ]
  },
  {
   "cell_type": "code",
   "execution_count": 5,
   "metadata": {},
   "outputs": [
    {
     "data": {
      "text/plain": [
       "(101, 72)"
      ]
     },
     "execution_count": 5,
     "metadata": {},
     "output_type": "execute_result"
    }
   ],
   "source": [
    "# Compute unl for n=0, ...., 100\n",
    "unl = basis.compute_unl(collect(0:100))\n",
    "size(unl)"
   ]
  },
  {
   "cell_type": "code",
   "execution_count": 6,
   "metadata": {},
   "outputs": [
    {
     "data": {
      "text/plain": [
       "72-element Vector{Float64}:\n",
       " -0.9999350180790227\n",
       " -0.999591919067488\n",
       " -0.998810514553798\n",
       " -0.9975735342137606\n",
       " -0.995868107425596\n",
       " -0.993676225696257\n",
       " -0.9909740539653258\n",
       " -0.9877311295042808\n",
       " -0.9839093450370975\n",
       " -0.9794616818172159\n",
       " -0.9743306649327053\n",
       " -0.9684465198121114\n",
       " -0.9617250208563004\n",
       "  ⋮\n",
       "  0.9684465198121114\n",
       "  0.9743306649327053\n",
       "  0.9794616818172162\n",
       "  0.9839093450370976\n",
       "  0.9877311295042808\n",
       "  0.9909740539653258\n",
       "  0.993676225696257\n",
       "  0.995868107425596\n",
       "  0.9975735342137606\n",
       "  0.998810514553798\n",
       "  0.999591919067488\n",
       "  0.9999350180790227"
      ]
     },
     "execution_count": 6,
     "metadata": {},
     "output_type": "execute_result"
    }
   ],
   "source": [
    "# Sampling points in x space\n",
    "sp_x = basis.sampling_points_x(basis.dim()-1)"
   ]
  },
  {
   "cell_type": "code",
   "execution_count": 7,
   "metadata": {},
   "outputs": [
    {
     "data": {
      "text/plain": [
       "72×72 transpose(::Matrix{Float64}) with eltype Float64:\n",
       " 6.02087  -8.04567   9.48639    -10.5652     …  -5.7562    5.64904  -5.54162\n",
       " 5.75039  -7.64106   8.79298     -9.58333        5.2586   -5.19723   5.1292\n",
       " 5.22002  -6.84939   7.44944     -7.6984        -4.14515   4.11459  -4.0676\n",
       " 4.56897  -5.88165   5.83787     -5.47791        3.48043  -3.47632   3.44334\n",
       " 3.92892  -4.93653   4.31109     -3.43615       -3.03602   3.05866  -3.03749\n",
       " 3.3726   -4.12265   3.05309     -1.82861    …   2.70883  -2.76005   2.75014\n",
       " 2.91728  -3.46444   2.09371     -0.6797        -2.45021   2.53266  -2.53418\n",
       " 2.55077  -2.94191   1.38475      0.0983916      2.23412  -2.35096   2.36455\n",
       " 2.2534   -2.52421   0.862301     0.61095       -2.04508   2.19992  -2.22653\n",
       " 2.00797  -2.18467   0.473613     0.94159        1.8731   -2.06984   2.11067\n",
       " 1.80177  -1.90373   0.181174     1.14795    …  -1.71132   1.95407  -2.01054\n",
       " 1.62576  -1.66755  -0.0407086    1.26829        1.55485  -1.84777   1.92144\n",
       " 1.47345  -1.46629  -0.209784     1.32817       -1.40029   1.7473   -1.83987\n",
       " ⋮                                           ⋱             ⋮        \n",
       " 1.62576   1.66755  -0.0407086   -1.26829    …  -1.55485  -1.84777  -1.92144\n",
       " 1.80177   1.90373   0.181174    -1.14795        1.71132   1.95407   2.01054\n",
       " 2.00797   2.18467   0.473613    -0.94159       -1.8731   -2.06984  -2.11067\n",
       " 2.2534    2.52421   0.862301    -0.61095        2.04508   2.19992   2.22653\n",
       " 2.55077   2.94191   1.38475     -0.0983916     -2.23412  -2.35096  -2.36455\n",
       " 2.91728   3.46444   2.09371      0.6797     …   2.45021   2.53266   2.53418\n",
       " 3.3726    4.12265   3.05309      1.82861       -2.70883  -2.76005  -2.75014\n",
       " 3.92892   4.93653   4.31109      3.43615        3.03602   3.05866   3.03749\n",
       " 4.56897   5.88165   5.83787      5.47791       -3.48043  -3.47632  -3.44334\n",
       " 5.22002   6.84939   7.44944      7.6984         4.14515   4.11459   4.0676\n",
       " 5.75039   7.64106   8.79298      9.58333    …  -5.2586   -5.19723  -5.1292\n",
       " 6.02087   8.04567   9.48639     10.5652         5.7562    5.64904   5.54162"
      ]
     },
     "execution_count": 7,
     "metadata": {},
     "output_type": "execute_result"
    }
   ],
   "source": [
    "# Dimensionless version of F matrix for sparse sampling\n",
    "F = transpose(compute_ulx_all_l(basis, sp_x))"
   ]
  },
  {
   "cell_type": "code",
   "execution_count": 8,
   "metadata": {},
   "outputs": [
    {
     "data": {
      "text/plain": [
       "72-element Vector{Int64}:\n",
       " -1739\n",
       "  -716\n",
       "  -435\n",
       "  -307\n",
       "  -234\n",
       "  -186\n",
       "  -151\n",
       "  -126\n",
       "  -106\n",
       "   -90\n",
       "   -77\n",
       "   -66\n",
       "   -57\n",
       "     ⋮\n",
       "    65\n",
       "    76\n",
       "    89\n",
       "   105\n",
       "   125\n",
       "   150\n",
       "   185\n",
       "   233\n",
       "   306\n",
       "   434\n",
       "   715\n",
       "  1738"
      ]
     },
     "execution_count": 8,
     "metadata": {},
     "output_type": "execute_result"
    }
   ],
   "source": [
    "# Sampling points in n\n",
    "sp_n = basis.sampling_points_matsubara(basis.dim()-1)"
   ]
  },
  {
   "cell_type": "code",
   "execution_count": 9,
   "metadata": {},
   "outputs": [
    {
     "data": {
      "text/plain": [
       "72×72 Matrix{ComplexF64}:\n",
       " -0.0-0.00157101im   -5.95226e-5+0.0im  …  -0.00322053+0.0im\n",
       " -0.0-0.00379364im  -0.000345927+0.0im      0.00849325+0.0im\n",
       " -0.0-0.00617193im  -0.000909578+0.0im       -0.013881+0.0im\n",
       " -0.0-0.00859539im   -0.00174668+0.0im       0.0191966+0.0im\n",
       " -0.0-0.0110285im    -0.00283801+0.0im      -0.0243999+0.0im\n",
       " -0.0-0.0135049im    -0.00418642+0.0im  …    0.0294781+0.0im\n",
       " -0.0-0.0161079im    -0.00583646+0.0im      -0.0344425+0.0im\n",
       " -0.0-0.0186518im    -0.00765254+0.0im       0.0394045+0.0im\n",
       " -0.0-0.0213354im    -0.00975744+0.0im      -0.0443181+0.0im\n",
       " -0.0-0.0241132im     -0.0121115+0.0im       0.0492602+0.0im\n",
       " -0.0-0.0269863im     -0.0147053+0.0im  …   -0.0542247+0.0im\n",
       " -0.0-0.0300525im      -0.017624+0.0im       0.0595113+0.0im\n",
       " -0.0-0.033191im      -0.0207469+0.0im      -0.0647406+0.0im\n",
       "     ⋮                                  ⋱  \n",
       "  0.0+0.0300525im      -0.017624+0.0im  …    0.0595113+0.0im\n",
       "  0.0+0.0269863im     -0.0147053+0.0im      -0.0542247+0.0im\n",
       "  0.0+0.0241132im     -0.0121115+0.0im       0.0492602+0.0im\n",
       "  0.0+0.0213354im    -0.00975744+0.0im      -0.0443181+0.0im\n",
       "  0.0+0.0186518im    -0.00765254+0.0im       0.0394045+0.0im\n",
       "  0.0+0.0161079im    -0.00583646+0.0im  …   -0.0344425+0.0im\n",
       "  0.0+0.0135049im    -0.00418642+0.0im       0.0294781+0.0im\n",
       "  0.0+0.0110285im    -0.00283801+0.0im      -0.0243999+0.0im\n",
       "  0.0+0.00859539im   -0.00174668+0.0im       0.0191966+0.0im\n",
       "  0.0+0.00617193im  -0.000909578+0.0im       -0.013881+0.0im\n",
       "  0.0+0.00379364im  -0.000345927+0.0im  …   0.00849325+0.0im\n",
       "  0.0+0.00157101im   -5.95226e-5+0.0im     -0.00322053+0.0im"
      ]
     },
     "execution_count": 9,
     "metadata": {},
     "output_type": "execute_result"
    }
   ],
   "source": [
    "# Dimensionless version of hatF matrix for sparse sampling\n",
    "hatF = basis.compute_unl(sp_n)"
   ]
  },
  {
   "cell_type": "code",
   "execution_count": null,
   "metadata": {},
   "outputs": [],
   "source": []
  }
 ],
 "metadata": {
  "kernelspec": {
   "display_name": "Julia 1.6.0",
   "language": "julia",
   "name": "julia-1.6"
  },
  "language_info": {
   "file_extension": ".jl",
   "mimetype": "application/julia",
   "name": "julia",
   "version": "1.6.0"
  }
 },
 "nbformat": 4,
 "nbformat_minor": 4
}
