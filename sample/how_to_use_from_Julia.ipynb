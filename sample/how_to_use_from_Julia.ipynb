{
 "cells": [
  {
   "cell_type": "code",
   "execution_count": null,
   "metadata": {},
   "outputs": [],
   "source": [
    "using PyCall\n",
    "\n",
    "const irbasis = pyimport(\"irbasis\")"
   ]
  },
  {
   "cell_type": "code",
   "execution_count": 6,
   "metadata": {},
   "outputs": [
    {
     "data": {
      "text/plain": [
       "PyObject <irbasis.irbasis.basis object at 0x130aa40a0>"
      ]
     },
     "execution_count": 6,
     "metadata": {},
     "output_type": "execute_result"
    }
   ],
   "source": [
    "basis = irbasis.load(\"F\", 1000.0)"
   ]
  },
  {
   "cell_type": "code",
   "execution_count": 7,
   "metadata": {},
   "outputs": [
    {
     "data": {
      "text/plain": [
       "0.27401896348952326"
      ]
     },
     "execution_count": 7,
     "metadata": {},
     "output_type": "execute_result"
    }
   ],
   "source": [
    "# l=0, x = 0.1\n",
    "basis.ulx(0, 0.1)"
   ]
  },
  {
   "cell_type": "code",
   "execution_count": 16,
   "metadata": {},
   "outputs": [
    {
     "data": {
      "text/plain": [
       "72×10 Array{Float64,2}:\n",
       "   6.07505   0.549313    0.366399   …   0.366399    0.549313    6.07505\n",
       "  -8.12678  -0.339827   -0.144248       0.144248    0.339827    8.12678\n",
       "   9.62587  -0.61677    -0.517043      -0.517043   -0.61677     9.62587\n",
       " -10.7633    0.685601    0.331015      -0.331015   -0.685601   10.7633\n",
       "  10.7472    0.152731    0.424105       0.424105    0.152731   10.7472\n",
       " -11.0506   -0.772615   -0.50931    …   0.50931     0.772615   11.0506\n",
       "  10.9917    0.473205   -0.189371      -0.189371    0.473205   10.9917\n",
       " -11.0915    0.408272    0.602706      -0.602706   -0.408272   11.0915\n",
       "  11.1133   -0.825422   -0.104902      -0.104902   -0.825422   11.1133\n",
       " -11.1864    0.258887   -0.56085        0.56085    -0.258887   11.1864\n",
       "  11.2448    0.62644     0.388623   …   0.388623    0.62644    11.2448\n",
       " -11.3166   -0.790686    0.373276      -0.373276    0.790686   11.3166\n",
       "  11.3852    0.0417186  -0.58629       -0.58629     0.0417186  11.3852\n",
       "   ⋮                                ⋱                          \n",
       "  13.5917    1.00921     0.622834   …   0.622834    1.00921    13.5917\n",
       " -13.6243   -0.481349    0.170163      -0.170163    0.481349   13.6243\n",
       "  13.6565   -0.43799    -0.749429      -0.749429   -0.43799    13.6565\n",
       " -13.6885    1.00474     0.378971      -0.378971   -1.00474    13.6885\n",
       "  13.7202   -0.765149    0.472938       0.472938   -0.765149   13.7202\n",
       " -13.7518   -0.0859612  -0.73016    …   0.73016     0.0859612  13.7518\n",
       "  13.783     0.869604    0.0677814      0.0677814   0.869604   13.783\n",
       " -13.8141   -0.966599    0.682105      -0.682105    0.966599   13.8141\n",
       "  13.8449    0.303645   -0.578794      -0.578794    0.303645   13.8449\n",
       " -13.8755    0.597346   -0.249219       0.249219   -0.597346   13.8755\n",
       "  13.906    -1.03418     0.768793   …   0.768793   -1.03418    13.906\n",
       " -13.9362    0.670707   -0.33251        0.33251    -0.670707   13.9362"
      ]
     },
     "execution_count": 16,
     "metadata": {},
     "output_type": "execute_result"
    }
   ],
   "source": [
    "# Compute u_l(x) for all l at 10 x points.\n",
    "let\n",
    "    nx = 10\n",
    "    dim::Int = basis.dim()\n",
    "    all_l = collect(0:dim-1) # make sure l starts with 0.\n",
    "    xs = LinRange(-1, 1, nx)\n",
    "    ulx_mat = basis.ulx(reshape(all_l, dim, 1), reshape(xs, 1, nx))\n",
    "end"
   ]
  }
 ],
 "metadata": {
  "kernelspec": {
   "display_name": "Julia 1.4.0",
   "language": "julia",
   "name": "julia-1.4"
  },
  "language_info": {
   "file_extension": ".jl",
   "mimetype": "application/julia",
   "name": "julia",
   "version": "1.4.0"
  }
 },
 "nbformat": 4,
 "nbformat_minor": 4
}
