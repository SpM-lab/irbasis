{
 "cells": [
  {
   "cell_type": "code",
   "execution_count": 1,
   "metadata": {
    "colab": {
     "base_uri": "https://localhost:8080/",
     "height": 267
    },
    "colab_type": "code",
    "executionInfo": {
     "elapsed": 7656,
     "status": "ok",
     "timestamp": 1548325974742,
     "user": {
      "displayName": "Chikano直樹",
      "photoUrl": "",
      "userId": "03369377431180913953"
     },
     "user_tz": -540
    },
    "id": "KEaf0Cqm11Gd",
    "outputId": "f1b5a7f7-2b3e-4903-fd6a-64fec2246c8a"
   },
   "outputs": [
    {
     "name": "stdout",
     "output_type": "stream",
     "text": [
      "Collecting irbasis\n",
      "\u001b[?25l  Downloading https://files.pythonhosted.org/packages/5e/e2/6a2b4b85793f498966c60ca7ffdccbe6528b7dee6b34929d934d130302a1/irbasis-1.0.2-py2.py3-none-any.whl (7.8MB)\n",
      "\u001b[K    100% |████████████████████████████████| 7.8MB 3.8MB/s \n",
      "\u001b[?25hRequirement already satisfied: h5py in /usr/local/lib/python3.6/dist-packages (from irbasis) (2.8.0)\n",
      "Requirement already satisfied: numpy in /usr/local/lib/python3.6/dist-packages (from irbasis) (1.14.6)\n",
      "Requirement already satisfied: future in /usr/local/lib/python3.6/dist-packages (from irbasis) (0.16.0)\n",
      "Requirement already satisfied: six in /usr/local/lib/python3.6/dist-packages (from h5py->irbasis) (1.11.0)\n",
      "Installing collected packages: irbasis\n",
      "Successfully installed irbasis-1.0.2\n"
     ]
    }
   ],
   "source": [
    "!pip install irbasis"
   ]
  },
  {
   "cell_type": "code",
   "execution_count": 1,
   "metadata": {
    "colab": {},
    "colab_type": "code",
    "id": "oeXLU-tR2Hs-"
   },
   "outputs": [],
   "source": [
    "import numpy\n",
    "import irbasis\n",
    "import scipy\n",
    "import scipy.integrate as integrate\n",
    "import matplotlib\n",
    "import matplotlib.pyplot as plt"
   ]
  },
  {
   "cell_type": "code",
   "execution_count": 2,
   "metadata": {
    "colab": {},
    "colab_type": "code",
    "id": "NLn_fXy57A93"
   },
   "outputs": [],
   "source": [
    "# Load fermionic IR basis\n",
    "Lambda = 100.0\n",
    "wmax = 1\n",
    "beta = Lambda / wmax\n",
    "\n",
    "#basis = irbasis.load('F', Lambda, 'irbasis.h5')\n",
    "basis = irbasis.load('F', Lambda)\n",
    "dim = basis.dim()"
   ]
  },
  {
   "cell_type": "markdown",
   "metadata": {
    "colab_type": "text",
    "id": "EiR9A97M7fTW"
   },
   "source": [
    "# Computing $\\rho_l$\n",
    "\n",
    "Here we compute expansion coefficients of a model spectrum using\n",
    "$$\n",
    "\\rho_l = \\int^{\\omega_{{\\rm max}}}_{-{\\omega_{{\\rm max}}}}d\\omega \\rho(\\omega)V_l(\\omega)\n",
    "$$\n",
    "$$\n",
    "V_l(\\omega) = \\sqrt{\\frac{1}{\\omega_{{\\rm max}}} }v_l(y / \\omega_{{\\rm max}})\n",
    "$$\n",
    "\n",
    "We consider two typical cases: a semicircular DOS (metal) and a DOS consisting of two peaks (insulator).\n",
    "The definitions are the following:\n",
    "$$\n",
    "\\rho_\\mathrm{Metal}(\\omega) = \\frac{2}{\\pi\n",
    "}\\sqrt{1-\\omega^2}\n",
    "$$\n",
    "$$\n",
    "\\rho_\\mathrm{Insulator}(\\omega) = \\frac{1}{2}(\\delta(\\omega-1) + \\delta(\\omega+1)) \n",
    "$$"
   ]
  },
  {
   "cell_type": "code",
   "execution_count": 9,
   "metadata": {
    "colab": {
     "base_uri": "https://localhost:8080/",
     "height": 418
    },
    "colab_type": "code",
    "executionInfo": {
     "elapsed": 8324,
     "status": "ok",
     "timestamp": 1548325975430,
     "user": {
      "displayName": "Chikano直樹",
      "photoUrl": "",
      "userId": "03369377431180913953"
     },
     "user_tz": -540
    },
    "id": "UO1vaBImGbjs",
    "outputId": "5c1eeb0c-0396-490d-8f90-97ae6a9c35f1"
   },
   "outputs": [
    {
     "data": {
      "text/plain": [
       "<matplotlib.legend.Legend at 0x1216d4470>"
      ]
     },
     "execution_count": 9,
     "metadata": {},
     "output_type": "execute_result"
    },
    {
     "data": {
      "image/png": "[encoded data removed]",
      "text/plain": [
       "<Figure size 432x288 with 1 Axes>"
      ]
     },
     "metadata": {},
     "output_type": "display_data"
    }
   ],
   "source": [
    "#model = \"Metal\"\n",
    "model = \"Insulator\"  #Pole at \\omega = -1,+1\n",
    "\n",
    "\n",
    "rho_l = numpy.empty(dim)\n",
    "if model == \"Metal\":\n",
    "    rho = lambda omega: (2/numpy.pi) * numpy.sqrt(1-omega**2)\n",
    "    for l in range(dim):\n",
    "        rho_l[l] = scipy.integrate.quad(\n",
    "            lambda omega: rho(omega)*numpy.sqrt(1/wmax)*basis.vly(l,omega/wmax),\n",
    "            -wmax, wmax,limit = 500)[0]\n",
    "else:\n",
    "    pole = 1\n",
    "    for l in range(dim):\n",
    "        rho_l[l] = 0.5 * numpy.sqrt(1/wmax)* (basis.vly(l,pole/wmax) + basis.vly(l,-pole/wmax))\n",
    "\n",
    "plt.ylim([1e-5,10])\n",
    "plt.semilogy(numpy.abs(rho_l), marker=\"o\", ls='', label=r\"$\\rho_l$\")\n",
    "plt.title(model, fontsize = 21)\n",
    "plt.tick_params(labelsize=21)\n",
    "plt.ylabel(r\"$|\\rho_l|$\", fontsize = 21)\n",
    "plt.xlabel(r'$l$', fontsize = 21)\n",
    "plt.legend(frameon=False, fontsize = 21)"
   ]
  },
  {
   "cell_type": "markdown",
   "metadata": {
    "colab_type": "text",
    "id": "jNxXcf2a5Syy"
   },
   "source": [
    "# Computing $G_l$ from $\\rho_l$\n",
    "We compute expansion coeffcients of $G(\\tau)$ using\n",
    "$$\n",
    "G_l = -S_l \\rho_l\n",
    "$$\n",
    "$$\n",
    "S_l = \\sqrt{\\frac{\\beta\\omega_{{\\rm max}}}{2} }s_l.\n",
    "$$\n"
   ]
  },
  {
   "cell_type": "code",
   "execution_count": 5,
   "metadata": {
    "colab": {
     "base_uri": "https://localhost:8080/",
     "height": 418
    },
    "colab_type": "code",
    "executionInfo": {
     "elapsed": 8933,
     "status": "ok",
     "timestamp": 1548325976053,
     "user": {
      "displayName": "Chikano直樹",
      "photoUrl": "",
      "userId": "03369377431180913953"
     },
     "user_tz": -540
    },
    "id": "ig6X44sMJUBu",
    "outputId": "b5a09153-cfad-4d0d-d774-7c5a7dd42a08"
   },
   "outputs": [
    {
     "data": {
      "text/plain": [
       "<matplotlib.legend.Legend at 0x120e9ff60>"
      ]
     },
     "execution_count": 5,
     "metadata": {},
     "output_type": "execute_result"
    },
    {
     "data": {
      "image/png": "[encoded data removed]",
      "text/plain": [
       "<Figure size 432x288 with 1 Axes>"
      ]
     },
     "metadata": {},
     "output_type": "display_data"
    }
   ],
   "source": [
    "# broadcasting applies to sl()\n",
    "Sl = numpy.sqrt(0.5 * beta * wmax) * basis.sl(range(dim))\n",
    "gl = - Sl * rho_l\n",
    "plt.semilogy(numpy.abs(gl), marker=\"o\", ls='', label=r\"$G_l$\")\n",
    "plt.title(model, fontsize = 21)\n",
    "plt.ylabel(r\"$|G_l|$\", fontsize = 21)\n",
    "plt.tick_params(labelsize=21)\n",
    "plt.xlabel(r'$l$', fontsize = 21)\n",
    "plt.ylim([1e-10,1])\n",
    "plt.legend(frameon=False, fontsize = 21)"
   ]
  },
  {
   "cell_type": "markdown",
   "metadata": {
    "colab_type": "text",
    "id": "xdwi8AKHM5fq"
   },
   "source": [
    "# Computing $G(\\tau)$ from $G_l$\n",
    "\n",
    "We compute the Matsubara Green's function $G(\\tau)$ using\n",
    "$$\n",
    "G(\\tau) = \\sum_l G_l U_l(\\tau)\n",
    "$$\n",
    "$$\n",
    "U_l(\\tau) = \\sqrt{ \\frac{2}{\\beta}}u_l(\\frac{2\\tau}{\\beta}-1)\n",
    "$$"
   ]
  },
  {
   "cell_type": "code",
   "execution_count": 6,
   "metadata": {
    "colab": {
     "base_uri": "https://localhost:8080/",
     "height": 397
    },
    "colab_type": "code",
    "executionInfo": {
     "elapsed": 9290,
     "status": "ok",
     "timestamp": 1548325976422,
     "user": {
      "displayName": "Chikano直樹",
      "photoUrl": "",
      "userId": "03369377431180913953"
     },
     "user_tz": -540
    },
    "id": "GN53ljGG0jE_",
    "outputId": "019a0c52-de3e-4a5d-da2b-8ecbce02a0e2"
   },
   "outputs": [
    {
     "name": "stdout",
     "output_type": "stream",
     "text": [
      "-0.49999999999999734 -0.49999999999999734\n"
     ]
    },
    {
     "data": {
      "image/png": "[encoded data removed]",
      "text/plain": [
       "<Figure size 432x288 with 1 Axes>"
      ]
     },
     "metadata": {},
     "output_type": "display_data"
    }
   ],
   "source": [
    "n_tau = 100\n",
    "taus = numpy.linspace(0, beta, n_tau)\n",
    "xs = numpy.linspace(-1, 1, n_tau)\n",
    "\n",
    "# Broadcasting applies to ulx() as well.\n",
    "# Much faster!\n",
    "# ulx: (n_tau, dim)\n",
    "all_l = numpy.arange(dim)\n",
    "ulx = basis.ulx(all_l[:,None], xs[None,:]).transpose()\n",
    "Ultau = numpy.sqrt(2/beta)*ulx\n",
    "\n",
    "goftau = numpy.dot(Ultau, gl)\n",
    "\n",
    "plt.yscale(\"log\")\n",
    "\n",
    "plt.ylabel(r\"$|G(\\tau)|$\",fontsize=21)\n",
    "plt.tick_params(labelsize=21)\n",
    "plt.xlabel(r'$\\tau$',fontsize = 21)\n",
    "\n",
    "plt.scatter(taus, numpy.abs(goftau), marker=\"o\")\n",
    "print(goftau[0], goftau[-1])"
   ]
  },
  {
   "cell_type": "markdown",
   "metadata": {
    "colab_type": "text",
    "id": "WbZC-fvWNKSd"
   },
   "source": [
    "# Computing $G(i\\omega_n)$ from $G_l$\n",
    "\n",
    "\n",
    "$$\n",
    "G(i\\omega_n) = \\sum_l U_l({i\\omega_n})G_l = \\sum_l \\sqrt{\\beta}u_{nl}G_l\n",
    "$$"
   ]
  },
  {
   "cell_type": "code",
   "execution_count": 7,
   "metadata": {
    "colab": {
     "base_uri": "https://localhost:8080/",
     "height": 399
    },
    "colab_type": "code",
    "executionInfo": {
     "elapsed": 2730,
     "status": "ok",
     "timestamp": 1548326319104,
     "user": {
      "displayName": "Chikano直樹",
      "photoUrl": "",
      "userId": "03369377431180913953"
     },
     "user_tz": -540
    },
    "id": "JqkWCc-tdDCp",
    "outputId": "10bd7467-6405-4542-e283-61e152ea27a4"
   },
   "outputs": [
    {
     "data": {
      "text/plain": [
       "[<matplotlib.lines.Line2D at 0x1211b2588>]"
      ]
     },
     "execution_count": 7,
     "metadata": {},
     "output_type": "execute_result"
    },
    {
     "data": {
      "image/png": "[encoded data removed]",
      "text/plain": [
       "<Figure size 432x288 with 1 Axes>"
      ]
     },
     "metadata": {},
     "output_type": "display_data"
    }
   ],
   "source": [
    "n_iw = 1000\n",
    "ns = numpy.arange(n_iw)\n",
    "wn = (2 * ns + 1) * numpy.pi/beta\n",
    "Unl = numpy.sqrt(beta) * basis.compute_unl(ns)\n",
    "Giw = numpy.dot(Unl, gl)\n",
    "\n",
    "plt.xscale(\"log\")\n",
    "plt.yscale(\"log\")\n",
    "plt.xlim(0.1,wn[-1]*1.1)\n",
    "\n",
    "plt.ylabel(r\"$|G(i\\omega_n)|$\",fontsize=21)\n",
    "plt.xlabel(r'$\\omega_n$',fontsize = 21)\n",
    "\n",
    "plt.tick_params(labelsize=21)\n",
    "plt.scatter(wn,numpy.abs(Giw), marker=\"o\")\n",
    "plt.plot(wn, 1/wn, linestyle='-',c=\"r\")"
   ]
  },
  {
   "cell_type": "markdown",
   "metadata": {
    "colab_type": "text",
    "id": "hdN9fYnukuSk"
   },
   "source": [
    "# Compute $G_l$ by least squares fitting"
   ]
  },
  {
   "cell_type": "code",
   "execution_count": 8,
   "metadata": {
    "colab": {
     "base_uri": "https://localhost:8080/",
     "height": 509
    },
    "colab_type": "code",
    "executionInfo": {
     "elapsed": 12181,
     "status": "ok",
     "timestamp": 1548325979339,
     "user": {
      "displayName": "Chikano直樹",
      "photoUrl": "",
      "userId": "03369377431180913953"
     },
     "user_tz": -540
    },
    "id": "Zoec2hLck1_0",
    "outputId": "e8030f2f-67d4-4db3-faac-68fc22d3a17c"
   },
   "outputs": [
    {
     "name": "stderr",
     "output_type": "stream",
     "text": [
      "/usr/local/var/pyenv/versions/3.6.5/Python.framework/Versions/3.6/lib/python3.6/site-packages/ipykernel_launcher.py:11: FutureWarning: `rcond` parameter will change to the default of machine precision times ``max(M, N)`` where M and N are the input matrix dimensions.\n",
      "To use the future default and silence this warning we advise to pass `rcond=None`, to keep using the old, explicitly pass `rcond=-1`.\n",
      "  # This is added back by InteractiveShellApp.init_path()\n"
     ]
    },
    {
     "data": {
      "text/plain": [
       "<matplotlib.legend.Legend at 0x121394d30>"
      ]
     },
     "execution_count": 8,
     "metadata": {},
     "output_type": "execute_result"
    },
    {
     "data": {
      "image/png": "[encoded data removed]",
      "text/plain": [
       "<Figure size 432x288 with 1 Axes>"
      ]
     },
     "metadata": {},
     "output_type": "display_data"
    }
   ],
   "source": [
    "markers = ['o', 's']\n",
    "i = 0\n",
    "for Nfit in [30, 50]:\n",
    "    # Evaluate G(tau) on a uniform mesh\n",
    "    x_mesh = numpy.linspace(-1, 1, Nfit)\n",
    "    ulx = numpy.array([basis.ulx(l, x) for x in x_mesh for l in range(dim)]).reshape((Nfit, dim))\n",
    "    Ultau = numpy.sqrt(2/beta)*ulx\n",
    "    goftau = numpy.dot(Ultau, gl)\n",
    "    \n",
    "    # Least squares fitting\n",
    "    r = numpy.linalg.lstsq(Ultau, goftau)\n",
    "    gl_fit = r[0]\n",
    "    \n",
    "    # We plot data for even l\n",
    "    plt.semilogy(numpy.arange(0,dim,2), numpy.abs(gl-gl_fit)[::2],\n",
    "                 marker=markers[i], ls='', label=r\"$N_\\mathrm{{fit}}={}$\".format(Nfit))\n",
    "    \n",
    "    i += 1\n",
    "\n",
    "plt.title(model, fontsize = 21)\n",
    "plt.ylabel(r\"$|G_l - G_l^\\mathrm{Fit}|$\", fontsize = 21)\n",
    "plt.tick_params(labelsize=21)\n",
    "plt.xlabel(r'$l$', fontsize = 21)\n",
    "plt.ylim([1e-15,1])\n",
    "plt.legend(frameon=False, fontsize = 21)"
   ]
  }
 ],
 "metadata": {
  "colab": {
   "collapsed_sections": [],
   "name": "sample_plot.ipynb",
   "provenance": [],
   "toc_visible": true,
   "version": "0.3.2"
  },
  "kernelspec": {
   "display_name": "Python 3",
   "language": "python",
   "name": "python3"
  },
  "language_info": {
   "codemirror_mode": {
    "name": "ipython",
    "version": 3
   },
   "file_extension": ".py",
   "mimetype": "text/x-python",
   "name": "python",
   "nbconvert_exporter": "python",
   "pygments_lexer": "ipython3",
   "version": "3.6.5"
  }
 },
 "nbformat": 4,
 "nbformat_minor": 2
}
